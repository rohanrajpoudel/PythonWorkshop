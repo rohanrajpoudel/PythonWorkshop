{
 "cells": [
  {
   "cell_type": "code",
   "execution_count": null,
   "metadata": {},
   "outputs": [],
   "source": [
    "import numpy as np\n",
    "import pandas as pd\n",
    "import matplotlib.pyplot as plt\n",
    "from sklearn.model_selection import train_test_split\n",
    "from sklearn.neural_network import MLPClassifier\n",
    "from sklearn.metrics import accuracy_score"
   ]
  },
  {
   "cell_type": "code",
   "execution_count": null,
   "metadata": {},
   "outputs": [],
   "source": [
    "# Load the data\n",
    "df = pd.read_csv('pandatest.csv')\n",
    "# df = pd.read_csv('pandatest1.csv')\n",
    "# df = pd.read_csv('pandatest2.csv')\n",
    "\n",
    "# Prepare the data\n",
    "X = df[['A', 'B', 'C', 'D']]\n",
    "y = df['R']"
   ]
  },
  {
   "cell_type": "code",
   "execution_count": null,
   "metadata": {},
   "outputs": [],
   "source": [
    "# Split the data into training and testing sets\n",
    "X_train, X_test, y_train, y_test = train_test_split(X, y, test_size=0.2, random_state=42)\n",
    "\n",
    "# Build the model with logistic activation function\n",
    "model_one = MLPClassifier(hidden_layer_sizes=(10,), activation='relu', max_iter=1000, random_state=42)\n",
    "model_two = MLPClassifier(hidden_layer_sizes=(10,), activation='tanh', max_iter=1000, random_state=42)"
   ]
  },
  {
   "cell_type": "code",
   "execution_count": null,
   "metadata": {},
   "outputs": [],
   "source": [
    "# Initialize lists to store training and testing accuracy\n",
    "train_accuracy_one = []\n",
    "test_accuracy_one = []\n",
    "train_accuracy_two = []\n",
    "test_accuracy_two = []"
   ]
  },
  {
   "cell_type": "code",
   "execution_count": null,
   "metadata": {},
   "outputs": [],
   "source": [
    "# Train the model\n",
    "for i in range(1, 1001):  # 1000 iterations\n",
    "    model_one.partial_fit(X_train, y_train, classes=np.unique(y_train))\n",
    "    \n",
    "    # Calculate training accuracy\n",
    "    train_pred = model_one.predict(X_train)\n",
    "    train_accuracy_one.append(accuracy_score(y_train, train_pred))\n",
    "    \n",
    "    # Calculate testing accuracy\n",
    "    test_pred = model_one.predict(X_test)\n",
    "    test_accuracy_one.append(accuracy_score(y_test, test_pred))"
   ]
  },
  {
   "cell_type": "code",
   "execution_count": null,
   "metadata": {},
   "outputs": [],
   "source": [
    "# Train the model\n",
    "for i in range(1, 1001):  # 1000 iterations\n",
    "    model_two.partial_fit(X_train, y_train, classes=np.unique(y_train))\n",
    "    \n",
    "    # Calculate training accuracy\n",
    "    train_pred = model_two.predict(X_train)\n",
    "    train_accuracy_two.append(accuracy_score(y_train, train_pred))\n",
    "    \n",
    "    # Calculate testing accuracy\n",
    "    test_pred = model_two.predict(X_test)\n",
    "    test_accuracy_two.append(accuracy_score(y_test, test_pred))"
   ]
  },
  {
   "cell_type": "code",
   "execution_count": null,
   "metadata": {},
   "outputs": [],
   "source": [
    "# Plot convergence curves\n",
    "plt.plot(range(1, 1001), train_accuracy_one, label='Training Accuracy')\n",
    "plt.plot(range(1, 1001), test_accuracy_one, label='Testing Accuracy')\n",
    "plt.xlabel('Iteration')\n",
    "plt.ylabel('Accuracy')\n",
    "plt.title('Accuracy per Iteration (Model 1)')\n",
    "plt.legend()\n",
    "plt.show()"
   ]
  },
  {
   "cell_type": "code",
   "execution_count": null,
   "metadata": {},
   "outputs": [],
   "source": [
    "# Plot convergence curves\n",
    "plt.plot(range(1, 1001), train_accuracy_two, label='Training Accuracy')\n",
    "plt.plot(range(1, 1001), test_accuracy_two, label='Testing Accuracy')\n",
    "plt.xlabel('Iteration')\n",
    "plt.ylabel('Accuracy')\n",
    "plt.title('Accuracy per Iteration (Model 2)')\n",
    "plt.legend()\n",
    "plt.show()"
   ]
  },
  {
   "cell_type": "code",
   "execution_count": null,
   "metadata": {},
   "outputs": [],
   "source": [
    "# Evaluate the model\n",
    "accuracy = [model_one.score(X_test, y_test),model_two.score(X_test, y_test)]\n",
    "print(\"Model Accuracy:\\n\", accuracy)"
   ]
  },
  {
   "cell_type": "code",
   "execution_count": null,
   "metadata": {},
   "outputs": [],
   "source": [
    "# Plot convergence curve\n",
    "plt.plot(model_one.loss_curve_)\n",
    "plt.xlabel('Iteration')\n",
    "plt.ylabel('Loss')\n",
    "plt.title('Convergence per Iteration (Model 1)')\n",
    "plt.show()"
   ]
  },
  {
   "cell_type": "code",
   "execution_count": null,
   "metadata": {},
   "outputs": [],
   "source": [
    "# Plot convergence curve\n",
    "plt.plot(model_two.loss_curve_)\n",
    "plt.xlabel('Iteration')\n",
    "plt.ylabel('Loss')\n",
    "plt.title('Convergence per Iteration (Model 2)')\n",
    "plt.show()"
   ]
  }
 ],
 "metadata": {
  "kernelspec": {
   "display_name": "Python 3",
   "language": "python",
   "name": "python3"
  },
  "language_info": {
   "codemirror_mode": {
    "name": "ipython",
    "version": 3
   },
   "file_extension": ".py",
   "mimetype": "text/x-python",
   "name": "python",
   "nbconvert_exporter": "python",
   "pygments_lexer": "ipython3",
   "version": "3.10.0"
  }
 },
 "nbformat": 4,
 "nbformat_minor": 2
}
