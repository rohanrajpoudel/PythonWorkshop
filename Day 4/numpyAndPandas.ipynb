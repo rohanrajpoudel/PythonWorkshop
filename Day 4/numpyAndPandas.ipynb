{
 "cells": [
  {
   "cell_type": "code",
   "execution_count": null,
   "metadata": {},
   "outputs": [],
   "source": [
    "import numpy as np\n",
    "arr = np.array(range(5))\n",
    "print(\"Initial\\n\",arr)\n",
    "arr.resize((2,3))\n",
    "print(\"Final\\n\", arr)"
   ]
  },
  {
   "cell_type": "code",
   "execution_count": null,
   "metadata": {},
   "outputs": [],
   "source": [
    "arr = [[14, 17, 12, 33, 44],   \n",
    "       [15, 6, 27, 8, 19],  \n",
    "       [23, 2, 54, 1, 4,]]  \n",
    "  \n",
    "print(\"\\nSum of arr : \", np.sum(arr)) \n",
    "print(\"Sum of arr(Vertical) : \", np.sum(arr, axis = 0)) \n",
    "print(\"Sum of arr(Horizontal) : \", np.sum(arr, axis = 1))\n",
    "\n",
    "print(\"\\nSum of arr (keepdimension is True in horizontal): \\n\",\n",
    "      np.sum(arr, axis = 1, keepdims = True))\n",
    "print(\"\\nSum of arr (keepdimension is True in vertical): \\n\",\n",
    "      np.sum(arr, axis = 0, keepdims = True))"
   ]
  },
  {
   "cell_type": "code",
   "execution_count": null,
   "metadata": {},
   "outputs": [],
   "source": [
    "import pandas as pd\n",
    "\n",
    "data = pd.read_csv('./pandatest.csv') \n",
    "\n",
    "# data.head(10)\n",
    "# data.head(n=8)\n",
    "data.head()\n"
   ]
  },
  {
   "cell_type": "code",
   "execution_count": null,
   "metadata": {},
   "outputs": [],
   "source": [
    "print(data.count())  #shows not-nan values count per label\n",
    "# print(data.info())     #more detail than count()"
   ]
  },
  {
   "cell_type": "code",
   "execution_count": null,
   "metadata": {},
   "outputs": [],
   "source": [
    "print(data.describe())"
   ]
  },
  {
   "cell_type": "code",
   "execution_count": null,
   "metadata": {},
   "outputs": [],
   "source": [
    "import pandas as pd\n",
    "df = pd.read_csv(\"./malefemale.csv\", dtype={\"gender\": \"category\"})\n",
    "print(df)\n",
    "print(df.dtypes)\n",
    "print(pd.get_dummies(df.gender))\n",
    "# Get one hot encoding of columns 'Gender'\n",
    "one_hot = pd.get_dummies(df.gender)\n",
    "# Drop column as it is now encoded\n",
    "data_df = df.drop('gender',axis = 1)\n",
    "# Join the encoded df\n",
    "print(data_df.shape)\n",
    "dfs = [data_df,one_hot]\n",
    "print(dfs)\n",
    "new_df=pd.concat(dfs, axis=1)\n",
    "print(new_df)"
   ]
  }
 ],
 "metadata": {
  "kernelspec": {
   "display_name": "Python 3",
   "language": "python",
   "name": "python3"
  },
  "language_info": {
   "codemirror_mode": {
    "name": "ipython",
    "version": 3
   },
   "file_extension": ".py",
   "mimetype": "text/x-python",
   "name": "python",
   "nbconvert_exporter": "python",
   "pygments_lexer": "ipython3",
   "version": "3.10.0"
  }
 },
 "nbformat": 4,
 "nbformat_minor": 2
}
